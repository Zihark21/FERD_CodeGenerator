{
 "cells": [
  {
   "cell_type": "code",
   "execution_count": 45,
   "metadata": {},
   "outputs": [],
   "source": [
    "import json, pandas"
   ]
  },
  {
   "cell_type": "markdown",
   "metadata": {},
   "source": [
    "df_char = pandas.read_excel(r\"C:\\Users\\aadai\\OneDrive\\Documents\\.Gaming Stuff\\Other\\Fire Emblem\\FE-RD Offsets.xlsx\", sheet_name=\"Character Offsets\")\n",
    "df_class = pandas.read_excel(r\"C:\\Users\\aadai\\OneDrive\\Documents\\.Gaming Stuff\\Other\\Fire Emblem\\FE-RD Offsets.xlsx\", sheet_name=\"Class Offsets\")\n",
    "df_item = pandas.read_excel(r\"C:\\Users\\aadai\\OneDrive\\Documents\\.Gaming Stuff\\Other\\Fire Emblem\\FE-RD Offsets.xlsx\", sheet_name=\"Item Offsets\")\n",
    "\n",
    "temp1 = df_char[df_char['Name'].notna()].sort_values(by=\"Name\")\n",
    "temp1['ID'] = temp1['Name']\n",
    "temp1.set_index(\"ID\", inplace=True)\n",
    "temp1.to_json(\"Character_Offsets.json\")\n",
    "\n",
    "temp2 = df_class[df_class['Name'].notna()].sort_values(by=\"Name\").drop('ID', axis=1)\n",
    "temp2['ID'] = temp2['Name']\n",
    "temp2.set_index(\"ID\", inplace=True)\n",
    "temp2.to_json(\"Class_Offsets.json\")\n",
    "\n",
    "temp3 = df_item.loc[(df_item.index <= 168) | ((df_item.index >= 185) & (df_item.index <= 232)) | ((df_item.index >= 290) & (df_item.index <= 295))].sort_values(by=\"Name\").drop('ID', axis=1)\n",
    "temp3['ID'] = temp3['Name']\n",
    "temp3.set_index(\"ID\", inplace=True)\n",
    "temp3.to_json(\"Item_Offsets.json\")"
   ]
  },
  {
   "cell_type": "code",
   "execution_count": 46,
   "metadata": {},
   "outputs": [],
   "source": [
    "# Input\n",
    "\n",
    "char = 'Ike'\n",
    "item = 'Ragnell'\n",
    "uses = '99'\n",
    "equip = '10'\n",
    "mt = '10'\n",
    "hit = '10'\n",
    "wt = '0'\n",
    "crit = '30'"
   ]
  },
  {
   "cell_type": "code",
   "execution_count": 47,
   "metadata": {},
   "outputs": [],
   "source": [
    "# Data and Lists\n",
    "\n",
    "characters = json.load(open('Character_Offsets.json', 'r'))\n",
    "classes = json.load(open('Class_Offsets.json', 'r'))\n",
    "items = json.load(open('Item_Offsets.json', 'r'))\n",
    "\n",
    "char_sel = list(characters['Name'])\n",
    "class_sel = list(classes['Name'])\n",
    "item_sel = list(items['Name'])\n",
    "\n",
    "base_code_beg = '20B54158 8070F8BC'\n",
    "base_code_end = 'E0000000 80008000'"
   ]
  },
  {
   "cell_type": "code",
   "execution_count": 6,
   "metadata": {},
   "outputs": [
    {
     "data": {
      "text/plain": [
       "'20B54158 8070F8BC\\n0488A9DC 80B60450\\n0088A9E0 00000063\\n0088A9E1 0000000a\\nE0000000 80008000'"
      ]
     },
     "execution_count": 6,
     "metadata": {},
     "output_type": "execute_result"
    }
   ],
   "source": [
    "# Item 1\n",
    "ofit1 = '04' + characters['Item_1'][char][-6:] + ' ' + items['Offset'][item]\n",
    "ofus1 = '00' + characters['Item_1_Uses'][char][-6:] + ' 000000' + hex(int(uses)).replace('0x', '').zfill(2)\n",
    "ofeq1 = '00' + characters['Item_1_Status'][char][-6:] + ' 000000' + hex(int(equip)).replace('0x', '').zfill(2)\n",
    "\n",
    "output = f'{base_code_beg}\\n{ofit1}\\n{ofus1}\\n{ofeq1}\\n{base_code_end}'\n",
    "output"
   ]
  },
  {
   "cell_type": "code",
   "execution_count": 70,
   "metadata": {},
   "outputs": [
    {
     "data": {
      "text/plain": [
       "'45747461726400000000000000000000'"
      ]
     },
     "execution_count": 70,
     "metadata": {},
     "output_type": "execute_result"
    }
   ],
   "source": [
    "fname = ''\n",
    "for c in 'Ettard':\n",
    "    fname += format(ord(c), \"x\")\n",
    "fname.ljust(32, '0')"
   ]
  }
 ],
 "metadata": {
  "kernelspec": {
   "display_name": "Python 3",
   "language": "python",
   "name": "python3"
  },
  "language_info": {
   "codemirror_mode": {
    "name": "ipython",
    "version": 3
   },
   "file_extension": ".py",
   "mimetype": "text/x-python",
   "name": "python",
   "nbconvert_exporter": "python",
   "pygments_lexer": "ipython3",
   "version": "3.13.0"
  }
 },
 "nbformat": 4,
 "nbformat_minor": 2
}
