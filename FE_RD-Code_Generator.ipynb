{
 "cells": [
  {
   "cell_type": "code",
   "execution_count": 1,
   "metadata": {},
   "outputs": [],
   "source": [
    "import tkinter as tk\n",
    "from tkinter import ttk\n",
    "\n",
    "root = tk.Tk()\n",
    "root.title(\"FERD Code Generator\")\n",
    "root.geometry(\"800x600\")\n",
    "\n",
    "notebook = ttk.Notebook(root)\n",
    "notebook.pack(fill=\"both\", expand=True)\n",
    "\n",
    "tab1 = ttk.Frame(notebook)\n",
    "tab2 = ttk.Frame(notebook)\n",
    "tab3 = ttk.Frame(notebook)\n",
    "\n",
    "notebook.add(tab1, text=\"Tab 1\")\n",
    "notebook.add(tab2, text=\"Tab 2\")\n",
    "notebook.add(tab3, text=\"Tab 3\")\n",
    "\n",
    "label = tk.Label(tab1, text=\"Welcome to Tab 1\")\n",
    "label.pack(padx=20, pady=20)\n",
    "\n",
    "root.mainloop()"
   ]
  }
 ],
 "metadata": {
  "kernelspec": {
   "display_name": "Python 3",
   "language": "python",
   "name": "python3"
  },
  "language_info": {
   "codemirror_mode": {
    "name": "ipython",
    "version": 3
   },
   "file_extension": ".py",
   "mimetype": "text/x-python",
   "name": "python",
   "nbconvert_exporter": "python",
   "pygments_lexer": "ipython3",
   "version": "3.12.7"
  }
 },
 "nbformat": 4,
 "nbformat_minor": 2
}
