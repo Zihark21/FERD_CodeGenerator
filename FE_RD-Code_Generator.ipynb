{
 "cells": [
  {
   "cell_type": "code",
   "execution_count": 1,
   "metadata": {},
   "outputs": [],
   "source": [
    "import tkinter, json, pandas"
   ]
  },
  {
   "cell_type": "code",
   "execution_count": 23,
   "metadata": {},
   "outputs": [],
   "source": [
    "df_char = pandas.read_excel(r\"C:\\Users\\aadai\\OneDrive\\Documents\\.Gaming Stuff\\Other\\Fire Emblem\\FE-RD Offsets.xlsx\", sheet_name=\"Character Offsets\")\n",
    "df_class = pandas.read_excel(r\"C:\\Users\\aadai\\OneDrive\\Documents\\.Gaming Stuff\\Other\\Fire Emblem\\FE-RD Offsets.xlsx\", sheet_name=\"Class Offsets\")\n",
    "df_item = pandas.read_excel(r\"C:\\Users\\aadai\\OneDrive\\Documents\\.Gaming Stuff\\Other\\Fire Emblem\\FE-RD Offsets.xlsx\", sheet_name=\"Item Offsets\")\n",
    "\n",
    "temp1 = df_char[df_char['Name'].notna()].sort_values(by=\"Name\")\n",
    "temp1['ID'] = temp1['Name']\n",
    "temp1.set_index(\"ID\", inplace=True)\n",
    "temp1.to_json(\"Character_Offsets.json\")\n",
    "\n",
    "temp2 = df_class[df_class['Name'].notna()].sort_values(by=\"Name\").drop('ID', axis=1)\n",
    "temp2['ID'] = temp2['Name']\n",
    "temp2.set_index(\"ID\", inplace=True)\n",
    "temp2.to_json(\"Class_Offsets.json\")\n",
    "\n",
    "temp3 = df_item.loc[(df_item.index <= 168) | ((df_item.index >= 185) & (df_item.index <= 232)) | ((df_item.index >= 290) & (df_item.index <= 295))].sort_values(by=\"Name\").drop('ID', axis=1)\n",
    "temp3['ID'] = temp3['Name']\n",
    "temp3.set_index(\"ID\", inplace=True)\n",
    "temp3.to_json(\"Item_Offsets.json\")"
   ]
  },
  {
   "cell_type": "code",
   "execution_count": 10,
   "metadata": {},
   "outputs": [],
   "source": [
    "characters = json.load(open('Character_Offsets.json', 'r'))\n",
    "classes = json.load(open('Class_Offsets.json', 'r'))\n",
    "items = json.load(open('Item_Offsets.json', 'r'))\n",
    "\n",
    "char_sel = list(characters['Name'])\n",
    "class_sel = list(classes['Name'])\n",
    "item_sel = list(items['Name'])"
   ]
  }
 ],
 "metadata": {
  "kernelspec": {
   "display_name": "Python 3",
   "language": "python",
   "name": "python3"
  },
  "language_info": {
   "codemirror_mode": {
    "name": "ipython",
    "version": 3
   },
   "file_extension": ".py",
   "mimetype": "text/x-python",
   "name": "python",
   "nbconvert_exporter": "python",
   "pygments_lexer": "ipython3",
   "version": "3.13.0"
  }
 },
 "nbformat": 4,
 "nbformat_minor": 2
}
